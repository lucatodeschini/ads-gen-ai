{
 "cells": [
  {
   "cell_type": "markdown",
   "id": "77fb10d8-de9d-40e4-bab4-cedb77df1102",
   "metadata": {},
   "source": [
    "# Multilevel architecture design - C4 Model\n",
    "\n",
    "The C4 model is a framework for visualizing the architecture of software systems, created by Simon Brown. It provides a hierarchical set of diagrams that represent different levels of abstraction in a system, making it easier for different stakeholders to understand the architecture. The name \"C4\" stands for \"Context, Container, Component, and Code,\" which are the four levels of diagrams that make up the model.\n",
    "\n",
    "## The Four Levels of the C4 Model:\n",
    "1. Context Diagram:\n",
    "- Purpose: To provide a high-level overview of the system and its interactions with external entities.\n",
    "- Audience: All stakeholders, including technical and non-technical people.\n",
    "- Details: Shows the system under consideration, its users, and other systems it interacts with. It answers the question, \"What is the system and who are its users?\"\n",
    "\n",
    "2. Container Diagram:\n",
    "- Purpose: To show the high-level shape of the software architecture and how responsibilities are distributed across different containers.\n",
    "- Audience: Technical people, including software architects and developers.\n",
    "- Details: Depicts the major containers (applications or services) that make up the system, their responsibilities, and how they communicate. Containers can include web applications, databases, microservices, and other types of execution environments.\n",
    "\n",
    "3. Component Diagram:\n",
    "- Purpose: To decompose each container into its constituent components and show how they interact.\n",
    "- Audience: Software architects and developers.\n",
    "- Details: Illustrates the major logical components within a container, their responsibilities, and the interactions between them. This level focuses on the internal structure of a container.\n",
    "\n",
    "4. Code (Class) Diagram:\n",
    "- Purpose: To provide detailed design of individual components, typically using UML class diagrams.\n",
    "- Audience: Developers.\n",
    "- Details: Shows the implementation details of a specific component, including classes, methods, and relationships between classes. This level is optional and often used for complex components where additional detail is needed.\n",
    "\n",
    "## Benefits of the C4 Model\n",
    "Clarity and Communication: By providing different levels of abstraction, the C4 model helps in communicating the architecture to various stakeholders, from non-technical people to developers.\n",
    "Scalability: The model scales from high-level overviews to detailed designs, making it suitable for large and complex systems.\n",
    "Consistency: Using a standardized approach to diagramming ensures consistency and clarity across different parts of the system and different projects.\n",
    "Focus on Different Aspects: Each level of the C4 model focuses on a different aspect of the system, ensuring that all important details are covered."
   ]
  },
  {
   "cell_type": "markdown",
   "id": "77159bbe",
   "metadata": {},
   "source": [
    "## Generating C4 Models with AI\n",
    "\n",
    "**Setup**\n",
    "\n",
    "Please rename the dot.env.sample file to .env and fill it with your secrets. Ensure all necessary environment variables are correctly populated to ensure smooth application functionality."
   ]
  },
  {
   "cell_type": "markdown",
   "id": "d93aa84f",
   "metadata": {},
   "source": [
    "**Utilities**\n",
    "\n",
    "The following blocks contain utilities for generating and display the diagrams"
   ]
  },
  {
   "cell_type": "code",
   "execution_count": 1,
   "id": "1632acda",
   "metadata": {},
   "outputs": [],
   "source": [
    "%pip install python-dotenv openai pydantic instructor plantweb\n",
    "from IPython.display import clear_output\n",
    "clear_output()"
   ]
  },
  {
   "cell_type": "code",
   "execution_count": 19,
   "id": "46118fa1",
   "metadata": {},
   "outputs": [],
   "source": [
    "### The current notebook take inspiration from the following project: https://github.com/intellectronica/llms-beyond-chat \n",
    "import os\n",
    "import io\n",
    "import PIL.Image as Image\n",
    "import instructor\n",
    "from IPython.display import display, JSON, Markdown\n",
    "from dotenv import load_dotenv\n",
    "from plantweb.render import render\n",
    "from typing import List\n",
    "from pydantic import BaseModel, Field\n",
    "\n",
    "load_dotenv()\n",
    "\n",
    "def display_markdown(text):\n",
    "    display(Markdown(text))\n",
    "\n",
    "def get_env_var(var_name):\n",
    "    return os.getenv(var_name)\n",
    "\n",
    "def show_plantuml(uml_code):\n",
    "    result = render(uml_code, format=\"png\")\n",
    "    f = io.BytesIO(result[0])\n",
    "    return Image.open(f)\n",
    "\n",
    "AZURE_OPENAI_ENDPOINT = get_env_var(\"AZURE_OPENAI_ENDPOINT\")\n",
    "AZURE_OPENAI_API_KEY = get_env_var(\"AZURE_OPENAI_API_KEY\")\n",
    "MODEL_NAME = \"gpt-4-32k\" # get_env_var(\"MODEL_NAME\")\n",
    "\n",
    "# Using AzureOpenAI\n",
    "from openai import AzureOpenAI\n",
    "aoai = AzureOpenAI(\n",
    "    api_version=\"2024-05-01-preview\",\n",
    "    azure_endpoint= AZURE_OPENAI_ENDPOINT,\n",
    "    api_key= AZURE_OPENAI_API_KEY,\n",
    ")\n",
    "client = instructor.from_openai(aoai)\n",
    "\n",
    "def llm(response_model: BaseModel = BaseModel, system: str = None,\n",
    "        user: str = None, temperature: float = 0.0, max_tokens: int = 1000):\n",
    "    \"\"\"\n",
    "    Helper function for calling the LLM with a Pydantic BaseModel,\n",
    "    a system prompt and/or a user prompt, with temperature and max_tokens.\n",
    "    \"\"\"\n",
    "    messages = []\n",
    "    if system:\n",
    "        messages.append({\"role\": \"system\", \"content\": system})\n",
    "    if user:\n",
    "        messages.append({\"role\": \"user\", \"content\": user})\n",
    "    result = client.chat.completions.create(\n",
    "        model=MODEL_NAME,\n",
    "        response_model=response_model,\n",
    "        messages=messages,\n",
    "        temperature=temperature,\n",
    "        max_tokens=max_tokens,\n",
    "    )\n",
    "    return result\n"
   ]
  },
  {
   "cell_type": "markdown",
   "id": "41530238",
   "metadata": {},
   "source": [
    "### Architecture requirements"
   ]
  },
  {
   "cell_type": "code",
   "execution_count": 20,
   "id": "b22ecc1a",
   "metadata": {},
   "outputs": [
    {
     "data": {
      "text/markdown": [
       "Functional requirements:\n",
       "\n",
       "The eshop is a web application that allows users to buy products online. \n",
       "\n",
       "A user should be able to access via desktop or mobile browser. When a user access the eshop, he is redirected to the landing page. \n",
       "\n",
       "The landing page contains a welcome message and a list of products available in the shop, the user can add products to the cart clicking on the \"add to cart\" button. \n",
       "When adding a product to the cart, the user can see the number of products in the cart from the top bar.\n",
       "\n",
       "From the landing page the user can access:\n",
       "- the detail page of a product when clicking on the product image or name,\n",
       "- the cart when clicking on the cart icon in the top bar,\n",
       "- the wishlist when clicking on the wishlist icon in the top bar,\n",
       "- the account page when clicking on the account icon in the top bar, if the user is authenticated, otherwise the user is redirected to the login page.\n",
       "- the search bar, where the user can search for a specific product.\n",
       "- the filters, where the user can filter the products by category, price, brand, etc.\n",
       "- copilot chat bot ai assitant, from the bottom right corner of the page.\n",
       "\n",
       "In the detail page of a product the user can see:\n",
       "- the specifications of the product like the size, the color, the material, etc.\n",
       "- the price of the product\n",
       "- the availability, \n",
       "- the delivery time, \n",
       "- the warranty, \n",
       "- the reviews, \n",
       "- the rating, \n",
       "- the related products,\n",
       "- the add to cart button, \n",
       "- the add to wishlist button.\n",
       "\n",
       "In the cart page the user can see:\n",
       "- the list of products in the cart,\n",
       "- the total price of the products in the cart,\n",
       "- the quantity of each product in the cart,\n",
       "- the remove button to remove a product from the cart,\n",
       "- the increase and decrease buttons to increase or decrease the quantity of a product in the cart,\n",
       "- the checkout button to proceed with the payment.\n",
       "\n",
       "When the user clicks on the checkout button, he is redirected to the checkout page. In the checkout page the user can see:\n",
       "- the list of products in the cart,\n",
       "- the total price of the products in the cart,\n",
       "- the quantity of each product in the cart,\n",
       "- the payment form to proceed with the payment.\n",
       "\n",
       "When proceeding with the payment, the user is redirected to an external service to complete the payment. \n",
       "If the payment is successful, the user returns to the eshopp and views a confirmation message with the order number and the details of the order.\n",
       "The user receives an email with the order number and the details of the order.\n",
       "\n",
       "In the wishlist page the user can see:\n",
       "- the list of products in the wishlist,\n",
       "- the add to cart button to add a product from the wishlist to the cart,\n",
       "- the remove button to remove a product from the wishlist.\n",
       "\n",
       "In the account page the user can see:\n",
       "- the personal information,\n",
       "- the order history,\n",
       "- the wishlist,\n",
       "- the settings.\n",
       "\n",
       "The user can login or register from the account page. The user can logout from the account page. \n",
       "The user can access the account page only if he is authenticated. If the user is not authenticated, he is redirected to the login page. \n",
       "In the login page the user can login with email and password.\n",
       "\n",
       "A copilot chat bot is available in the landing page, it can provide recommendation based on user requests. If the user is logged in, it can respond to questions about orders.\n",
       "The user can chat about:\n",
       "- products\n",
       "- orders\n",
       "- delivery\n",
       "- payment\n",
       "- account\n",
       "- settings\n",
       "\n",
       "The user can't chat about: \n",
       "- personal information\n",
       "- payment information\n",
       "- security information\n",
       "\n",
       "Non-functional requirements:\n",
       "- The eshop should be responsive and work on desktop and mobile browsers.\n",
       "- The eshop should be secure and protect user data.\n",
       "- The eshop should be fast and provide a good user experience.\n",
       "- The eshop should be reliable and available 24/7. SLA 99.99% uptime. SLI 99.99% availability.\n",
       "- The eshop should be scalable and handle a large number of users and products.\n",
       "- The eshop should be easy to maintain and update.\n",
       "- The eshop should be compliant with the GDPR and protect user privacy.\n",
       "- The eshop should be accessible and provide a good user experience for users with disabilities.\n",
       "- The eshop should be SEO friendly and rank well in search engines.\n",
       "- The eshop should be internationalized and support multiple languages and currencies.\n",
       "- The eshop should be integrated with social media platforms for sharing and promotion.\n",
       "- The eshop should be integrated with analytics tools to track user behavior and improve the user experience.\n",
       "- The eshop should be integrated with marketing tools to run campaigns and promotions.\n",
       "- The eshop should be integrated with customer support tools to provide assistance to users.\n",
       "- The eshop should be integrated with shipping and logistics services to handle deliveries.\n",
       "- The eshop should be integrated with payment gateways to process payments.\n",
       "- The eshop should be integrated with inventory management systems to track stock levels."
      ],
      "text/plain": [
       "<IPython.core.display.Markdown object>"
      ]
     },
     "metadata": {},
     "output_type": "display_data"
    }
   ],
   "source": [
    "# Load requirements from txt file\n",
    "\n",
    "with open(\"../requirements/eshop_requirements.txt\") as f:\n",
    "    requirements = f.read()\n",
    "\n",
    "display_markdown(requirements)"
   ]
  },
  {
   "cell_type": "markdown",
   "id": "6acad542",
   "metadata": {},
   "source": [
    "### Context Diagram\n",
    "\n",
    "A context diagram, also known as a level 0 data flow diagram (DFD), is a high-level, graphical representation of a system that depicts the system as a single process and shows the interactions it has with external entities. These external entities could be users, systems, or organizations that interact with the system. The context diagram provides an overview of the system's boundaries and the flow of information between the system and its environment."
   ]
  },
  {
   "cell_type": "code",
   "execution_count": 21,
   "id": "0a66bce1",
   "metadata": {},
   "outputs": [
    {
     "data": {
      "application/json": {
       "description": "The eshop is a web application that allows users to buy products online. It provides various features such as product browsing, adding products to cart or wishlist, checking out, and user account management. It also integrates with an external payment service for payment processing, and a chat bot for user assistance.",
       "external_systems": [
        {
         "description": "Processes payments for the eshop.",
         "name": "Payment Service"
        },
        {
         "description": "Provides assistance to users, answering questions about products, orders, delivery, payment, account, and settings.",
         "name": "Chat Bot"
        }
       ],
       "system": {
        "description": "A web application that allows users to buy products online. It provides various features such as product browsing, adding products to cart or wishlist, checking out, and user account management.",
        "name": "eshop"
       },
       "users": [
        {
         "name": "End User",
         "role": "Uses the eshop to browse and buy products, manage their account, and interact with the chat bot."
        }
       ]
      },
      "text/plain": [
       "<IPython.core.display.JSON object>"
      ]
     },
     "metadata": {
      "application/json": {
       "expanded": false,
       "root": "root"
      }
     },
     "output_type": "display_data"
    }
   ],
   "source": [
    "class User(BaseModel):\n",
    "    name: str = Field(\n",
    "        description=\"User name\"\n",
    "    )\n",
    "    role: str = Field(\n",
    "        description=\"User role\"\n",
    "    )\n",
    "\n",
    "class ExternalSystem(BaseModel):\n",
    "    name: str = Field(\n",
    "        description=\"External system name\"\n",
    "    )\n",
    "    description: str = Field(\n",
    "        description=\"External system description\"\n",
    "    )\n",
    "\n",
    "class System(BaseModel):\n",
    "    name: str = Field(\n",
    "        description=\"System name\"\n",
    "    )\n",
    "    description: str = Field(\n",
    "        description=\"System description\"\n",
    "    )\n",
    "\n",
    "class ContextDiagram(BaseModel):\n",
    "    description: str = Field(\n",
    "        description=\"Context Diagram textual description\"\n",
    "    )\n",
    "    users: List[User] = Field(\n",
    "        description=\"List of users of the system\"\n",
    "    )\n",
    "    external_systems: List[ExternalSystem] = Field(\n",
    "        description=\"List of external systems that interact with the system\"\n",
    "    )\n",
    "    system: System = Field(\n",
    "        description=\"The main system\"\n",
    "    )\n",
    "\n",
    "prompt = \"You're a software architect who wants to provide a detailed context diagram for the current architecture\"\n",
    "context = f\"Here the requirements: {requirements}\"\n",
    "\n",
    "context_diagram = llm(\n",
    "    ContextDiagram,\n",
    "    prompt,\n",
    "    context,\n",
    ")\n",
    "\n",
    "# Display the context diagram object\n",
    "display(JSON(context_diagram.dict()))"
   ]
  },
  {
   "cell_type": "code",
   "execution_count": 23,
   "id": "7cd98138",
   "metadata": {},
   "outputs": [
    {
     "data": {
      "text/markdown": [
       "## Container Diagram"
      ],
      "text/plain": [
       "<IPython.core.display.Markdown object>"
      ]
     },
     "metadata": {},
     "output_type": "display_data"
    },
    {
     "data": {
      "text/markdown": [
       "The eshop is a web application that allows users to buy products online. It provides various features such as product browsing, adding products to cart or wishlist, checking out, and user account management. It also integrates with an external payment service for payment processing, and a chat bot for user assistance."
      ],
      "text/plain": [
       "<IPython.core.display.Markdown object>"
      ]
     },
     "metadata": {},
     "output_type": "display_data"
    },
    {
     "ename": "HTTPError",
     "evalue": "400 Client Error: Bad Request for url: http://www.plantuml.com/plantuml/png/RP8nRzmm38Lt_mfskXHmxALJfhI7305QuD0WSq3Bx5ceBBaYTUxz-v8--vAqdIHGJq_V8tNFWbdA6AeFFhfGUe91PEAxjiquDqSlG-aAKtOf2aLfN1hRAM2qExSiVV1Tk_zqUx3IyxUlxOWibBNqijSRw2FbPZB_wa2PKxp1u97lW6B_hBOrx1vY3xRTwLvN1Xa8Y8SqWIJeSfgP05NKbJDCEVN52TSmOiGZcTXdGETIYL8lEg-a6Pt0hFIBcnjGe4lIx3vMJsS57AyOzeu-lAn6y1bcwW2dANY7ubDK0xsC8IW7M2TumNh30Ya6pTd0erZjv7iDSSBiKs7uGIWbQu6B6m1vktK9vkDHcVjUrrSxjNSw54XP4_0GF6imDv3xQR9KrfZ6iWLVkp7QXAuPNnv-ovPpmhCTFb4-UKUQyt0fm5gnw8US7B5DO5KhlJ9Sn_5_P-ljbwHCkxqrIhUhrwKFoApy61rPhgL_XiypPKlpgn1RbrNOQR8tyqsvNxGz1N-YVAutglhzj9b4r8cDhlfEuURwixRPsgVIm-NiKlgd6u_wPOuPvM_XQxXtYkfU7z5F_GS0",
     "output_type": "error",
     "traceback": [
      "\u001b[1;31m---------------------------------------------------------------------------\u001b[0m",
      "\u001b[1;31mHTTPError\u001b[0m                                 Traceback (most recent call last)",
      "Cell \u001b[1;32mIn[23], line 16\u001b[0m\n\u001b[0;32m     14\u001b[0m display(Markdown(\u001b[38;5;124m\"\u001b[39m\u001b[38;5;124m## Container Diagram\u001b[39m\u001b[38;5;124m\"\u001b[39m))\n\u001b[0;32m     15\u001b[0m display(Markdown(context_diagram\u001b[38;5;241m.\u001b[39mdescription))\n\u001b[1;32m---> 16\u001b[0m \u001b[43mshow_plantuml\u001b[49m\u001b[43m(\u001b[49m\u001b[43mplantuml_context_diagram\u001b[49m\u001b[38;5;241;43m.\u001b[39;49m\u001b[43mplantuml\u001b[49m\u001b[43m)\u001b[49m\n",
      "Cell \u001b[1;32mIn[19], line 21\u001b[0m, in \u001b[0;36mshow_plantuml\u001b[1;34m(uml_code)\u001b[0m\n\u001b[0;32m     20\u001b[0m \u001b[38;5;28;01mdef\u001b[39;00m \u001b[38;5;21mshow_plantuml\u001b[39m(uml_code):\n\u001b[1;32m---> 21\u001b[0m     result \u001b[38;5;241m=\u001b[39m \u001b[43mrender\u001b[49m\u001b[43m(\u001b[49m\u001b[43muml_code\u001b[49m\u001b[43m,\u001b[49m\u001b[43m \u001b[49m\u001b[38;5;28;43mformat\u001b[39;49m\u001b[38;5;241;43m=\u001b[39;49m\u001b[38;5;124;43m\"\u001b[39;49m\u001b[38;5;124;43mpng\u001b[39;49m\u001b[38;5;124;43m\"\u001b[39;49m\u001b[43m)\u001b[49m\n\u001b[0;32m     22\u001b[0m     f \u001b[38;5;241m=\u001b[39m io\u001b[38;5;241m.\u001b[39mBytesIO(result[\u001b[38;5;241m0\u001b[39m])\n\u001b[0;32m     23\u001b[0m     \u001b[38;5;28;01mreturn\u001b[39;00m Image\u001b[38;5;241m.\u001b[39mopen(f)\n",
      "File \u001b[1;32m~\\AppData\\Local\\Packages\\PythonSoftwareFoundation.Python.3.11_qbz5n2kfra8p0\\LocalCache\\local-packages\\Python311\\site-packages\\plantweb\\render.py:199\u001b[0m, in \u001b[0;36mrender\u001b[1;34m(content, engine, format, server, cacheopts)\u001b[0m\n\u001b[0;32m    196\u001b[0m \u001b[38;5;28;01mif\u001b[39;00m cacheopts \u001b[38;5;129;01mis\u001b[39;00m \u001b[38;5;28;01mNone\u001b[39;00m:\n\u001b[0;32m    197\u001b[0m     cacheopts \u001b[38;5;241m=\u001b[39m {}\n\u001b[1;32m--> 199\u001b[0m output, sha \u001b[38;5;241m=\u001b[39m \u001b[43mrender_cached\u001b[49m\u001b[43m(\u001b[49m\u001b[43mserver\u001b[49m\u001b[43m,\u001b[49m\u001b[43m \u001b[49m\u001b[38;5;28;43mformat\u001b[39;49m\u001b[43m,\u001b[49m\u001b[43m \u001b[49m\u001b[43mcontent\u001b[49m\u001b[43m,\u001b[49m\u001b[43m \u001b[49m\u001b[38;5;241;43m*\u001b[39;49m\u001b[38;5;241;43m*\u001b[39;49m\u001b[43mcacheopts\u001b[49m\u001b[43m)\u001b[49m\n\u001b[0;32m    201\u001b[0m \u001b[38;5;28;01mreturn\u001b[39;00m (output, \u001b[38;5;28mformat\u001b[39m, engine, sha)\n",
      "File \u001b[1;32m~\\AppData\\Local\\Packages\\PythonSoftwareFoundation.Python.3.11_qbz5n2kfra8p0\\LocalCache\\local-packages\\Python311\\site-packages\\plantweb\\render.py:122\u001b[0m, in \u001b[0;36mrender_cached\u001b[1;34m(server, format, content, use_cache, cache_dir)\u001b[0m\n\u001b[0;32m    119\u001b[0m mkpath(cache_dir)\n\u001b[0;32m    121\u001b[0m \u001b[38;5;66;03m# Normal render and save cache\u001b[39;00m\n\u001b[1;32m--> 122\u001b[0m output \u001b[38;5;241m=\u001b[39m \u001b[43mplantuml\u001b[49m\u001b[43m(\u001b[49m\u001b[43mserver\u001b[49m\u001b[43m,\u001b[49m\u001b[43m \u001b[49m\u001b[38;5;28;43mformat\u001b[39;49m\u001b[43m,\u001b[49m\u001b[43m \u001b[49m\u001b[43mcontent\u001b[49m\u001b[43m)\u001b[49m\n\u001b[0;32m    124\u001b[0m \u001b[38;5;28;01mwith\u001b[39;00m \u001b[38;5;28mopen\u001b[39m(cache_file, \u001b[38;5;124m'\u001b[39m\u001b[38;5;124mwb\u001b[39m\u001b[38;5;124m'\u001b[39m) \u001b[38;5;28;01mas\u001b[39;00m fd:\n\u001b[0;32m    125\u001b[0m     fd\u001b[38;5;241m.\u001b[39mwrite(output)\n",
      "File \u001b[1;32m~\\AppData\\Local\\Packages\\PythonSoftwareFoundation.Python.3.11_qbz5n2kfra8p0\\LocalCache\\local-packages\\Python311\\site-packages\\plantweb\\plantuml.py:124\u001b[0m, in \u001b[0;36mplantuml\u001b[1;34m(server, extension, content)\u001b[0m\n\u001b[0;32m    122\u001b[0m log\u001b[38;5;241m.\u001b[39mdebug(\u001b[38;5;124m'\u001b[39m\u001b[38;5;124mCalling URL:\u001b[39m\u001b[38;5;130;01m\\n\u001b[39;00m\u001b[38;5;132;01m{}\u001b[39;00m\u001b[38;5;124m'\u001b[39m\u001b[38;5;241m.\u001b[39mformat(url))\n\u001b[0;32m    123\u001b[0m response \u001b[38;5;241m=\u001b[39m get(url)\n\u001b[1;32m--> 124\u001b[0m \u001b[43mresponse\u001b[49m\u001b[38;5;241;43m.\u001b[39;49m\u001b[43mraise_for_status\u001b[49m\u001b[43m(\u001b[49m\u001b[43m)\u001b[49m\n\u001b[0;32m    125\u001b[0m \u001b[38;5;28;01mreturn\u001b[39;00m response\u001b[38;5;241m.\u001b[39mcontent\n",
      "File \u001b[1;32m~\\AppData\\Local\\Packages\\PythonSoftwareFoundation.Python.3.11_qbz5n2kfra8p0\\LocalCache\\local-packages\\Python311\\site-packages\\requests\\models.py:1021\u001b[0m, in \u001b[0;36mResponse.raise_for_status\u001b[1;34m(self)\u001b[0m\n\u001b[0;32m   1016\u001b[0m     http_error_msg \u001b[38;5;241m=\u001b[39m (\n\u001b[0;32m   1017\u001b[0m         \u001b[38;5;124mf\u001b[39m\u001b[38;5;124m\"\u001b[39m\u001b[38;5;132;01m{\u001b[39;00m\u001b[38;5;28mself\u001b[39m\u001b[38;5;241m.\u001b[39mstatus_code\u001b[38;5;132;01m}\u001b[39;00m\u001b[38;5;124m Server Error: \u001b[39m\u001b[38;5;132;01m{\u001b[39;00mreason\u001b[38;5;132;01m}\u001b[39;00m\u001b[38;5;124m for url: \u001b[39m\u001b[38;5;132;01m{\u001b[39;00m\u001b[38;5;28mself\u001b[39m\u001b[38;5;241m.\u001b[39murl\u001b[38;5;132;01m}\u001b[39;00m\u001b[38;5;124m\"\u001b[39m\n\u001b[0;32m   1018\u001b[0m     )\n\u001b[0;32m   1020\u001b[0m \u001b[38;5;28;01mif\u001b[39;00m http_error_msg:\n\u001b[1;32m-> 1021\u001b[0m     \u001b[38;5;28;01mraise\u001b[39;00m HTTPError(http_error_msg, response\u001b[38;5;241m=\u001b[39m\u001b[38;5;28mself\u001b[39m)\n",
      "\u001b[1;31mHTTPError\u001b[0m: 400 Client Error: Bad Request for url: http://www.plantuml.com/plantuml/png/RP8nRzmm38Lt_mfskXHmxALJfhI7305QuD0WSq3Bx5ceBBaYTUxz-v8--vAqdIHGJq_V8tNFWbdA6AeFFhfGUe91PEAxjiquDqSlG-aAKtOf2aLfN1hRAM2qExSiVV1Tk_zqUx3IyxUlxOWibBNqijSRw2FbPZB_wa2PKxp1u97lW6B_hBOrx1vY3xRTwLvN1Xa8Y8SqWIJeSfgP05NKbJDCEVN52TSmOiGZcTXdGETIYL8lEg-a6Pt0hFIBcnjGe4lIx3vMJsS57AyOzeu-lAn6y1bcwW2dANY7ubDK0xsC8IW7M2TumNh30Ya6pTd0erZjv7iDSSBiKs7uGIWbQu6B6m1vktK9vkDHcVjUrrSxjNSw54XP4_0GF6imDv3xQR9KrfZ6iWLVkp7QXAuPNnv-ovPpmhCTFb4-UKUQyt0fm5gnw8US7B5DO5KhlJ9Sn_5_P-ljbwHCkxqrIhUhrwKFoApy61rPhgL_XiypPKlpgn1RbrNOQR8tyqsvNxGz1N-YVAutglhzj9b4r8cDhlfEuURwixRPsgVIm-NiKlgd6u_wPOuPvM_XQxXtYkfU7z5F_GS0"
     ]
    }
   ],
   "source": [
    "# Convert context diagram object to PlantUML code\n",
    "\n",
    "class PlantUmlContextDiagram(BaseModel):\n",
    "    plantuml: str = Field(\n",
    "        description=\"PlantUML code for the context diagram using C4-PlantUML. Use the following directive `!include  https://raw.githubusercontent.com/plantuml-stdlib/C4-PlantUML/master/C4_Container.puml`\"\n",
    "    )\n",
    "\n",
    "plantuml_context_diagram = llm(\n",
    "    PlantUmlContextDiagram,\n",
    "    \"You're a software architect who wants to provide a C4-PlantUML diagram for the current context diagram json definition\",\n",
    "    f\"Here the context diagram definition as json: {context_diagram.model_dump_json()}\",\n",
    ")\n",
    "\n",
    "display(Markdown(\"## Container Diagram\"))\n",
    "display(Markdown(context_diagram.description))\n",
    "show_plantuml(plantuml_context_diagram.plantuml)\n"
   ]
  },
  {
   "cell_type": "markdown",
   "id": "dd631939",
   "metadata": {},
   "source": [
    "### Container Diagram\n",
    "\n",
    "A container diagram is a high-level architectural diagram that visually represents the structure of a software system by illustrating its primary containers and their relationships. It is one of the key diagrams in the C4 model, which is a set of hierarchical diagrams designed to describe software architecture at different levels of detail. The container diagram sits at level 1 in this model, following the context diagram level 0."
   ]
  },
  {
   "cell_type": "code",
   "execution_count": null,
   "id": "32cdb8bc",
   "metadata": {},
   "outputs": [],
   "source": [
    "# Container diagram\n",
    "\n",
    "class Container(BaseModel):\n",
    "    name: str = Field(\n",
    "        description=\"Container name\"\n",
    "    )\n",
    "    description: str = Field(\n",
    "        description=\"Container description\"\n",
    "    )\n",
    "    technology: str = Field(\n",
    "        description=\"Container technology\"\n",
    "    )\n",
    "\n",
    "class ContainerDiagram(BaseModel):\n",
    "    description: str = Field(\n",
    "        description=\"Container Diagram textual description\"\n",
    "    )\n",
    "    system: System = Field(\n",
    "        description=\"The main system\"\n",
    "    )\n",
    "    containers: List[Container] = Field(\n",
    "        description=\"List of containers in the system\"\n",
    "    )\n",
    "    users: List[User] = Field(\n",
    "        description=\"List of users of the system\"\n",
    "    )\n",
    "    external_systems: List[ExternalSystem] = Field(\n",
    "        description=\"List of external systems that interact with the system\"\n",
    "    )\n",
    "\n",
    "container_diagram_prompt = \"You're a software architect who wants to provide a detailed container diagram for the current architecture\"\n",
    "container_diagram_context = f\"Here the requirements: {requirements} - Here the context diagram: {context_diagram.model_dump_json()}\"\n",
    "\n",
    "container_diagram = llm(\n",
    "    ContainerDiagram,\n",
    "    container_diagram_prompt,\n",
    "    container_diagram_context,\n",
    ")\n",
    "\n",
    "# Display the container diagram object\n",
    "display(JSON(container_diagram.dict()))\n"
   ]
  },
  {
   "cell_type": "code",
   "execution_count": null,
   "id": "2a795ccc",
   "metadata": {},
   "outputs": [],
   "source": [
    "class PlantUmlContainerDiagram(BaseModel):\n",
    "    plantuml: str = Field(\n",
    "        description=\"PlantUML code for the container diagram using C4-PlantUML. Use the folloing directive `!include  https://raw.githubusercontent.com/plantuml-stdlib/C4-PlantUML/master/C4_Container.puml`\"\n",
    "    )\n",
    "\n",
    "plantuml_container_diagram = llm(\n",
    "    PlantUmlContainerDiagram,\n",
    "    \"You're a software architect who wants to provide a C4-PlantUML diagram for the current container diagram json definition\",\n",
    "    f\"Here the container diagram definition as json: {container_diagram.model_dump_json()}\",\n",
    ")\n",
    "\n",
    "display(Markdown(\"## Container Diagram\"))\n",
    "display(Markdown(container_diagram.description))\n",
    "show_plantuml(plantuml_container_diagram.plantuml)\n"
   ]
  },
  {
   "cell_type": "markdown",
   "id": "2ea6abe3",
   "metadata": {},
   "source": [
    "### Component diagram\n",
    "\n",
    "A component diagram is a type of diagram used in software engineering to describe the organization and relationships of components within a system. It sits at level 2, offering a more detailed view of the system’s architecture than the container diagram."
   ]
  },
  {
   "cell_type": "code",
   "execution_count": null,
   "id": "176f618d",
   "metadata": {},
   "outputs": [],
   "source": [
    "# Component diagram\n",
    "\n",
    "class Component(BaseModel):\n",
    "    '''\n",
    "    Component model class, defining the component structure composing a container\n",
    "    '''\n",
    "    name: str = Field(\n",
    "        description=\"Component name\"\n",
    "    )\n",
    "    description: str = Field(\n",
    "        description=\"Component description\"\n",
    "    )\n",
    "    technology: str = Field(\n",
    "        description=\"Component technology\"\n",
    "    )\n",
    "\n",
    "class ComponentDiagram(BaseModel):\n",
    "    description: str = Field(\n",
    "        description=\"Component Diagram textual description\"\n",
    "    )\n",
    "    system: System = Field(\n",
    "        description=\"The main system\"\n",
    "    )\n",
    "    components: List[Component] = Field(\n",
    "        description=\"List of components in each container\"\n",
    "    )\n",
    "    users: List[User] = Field(\n",
    "        description=\"List of users of the system\"\n",
    "    )\n",
    "    external_systems: List[ExternalSystem] = Field(\n",
    "        description=\"List of external systems that interact with the system\"\n",
    "    )\n",
    "\n",
    "component_diagram_prompt = \"You're a software architect who wants to provide a detailed component diagram for the current architecture\"\n",
    "component_diagram_context = f\"Here the requirements: {requirements} - Here the context diagram: {context_diagram.model_dump_json()} - Here the container diagram: {container_diagram.model_dump_json()}\"\n",
    "                           \n",
    "component_diagram = llm(\n",
    "    ComponentDiagram,\n",
    "    component_diagram_prompt,\n",
    "    component_diagram_context,\n",
    ")\n",
    "\n",
    "# Display the component diagram object\n",
    "display(JSON(component_diagram.dict()))"
   ]
  },
  {
   "cell_type": "code",
   "execution_count": null,
   "id": "14bdaea8",
   "metadata": {},
   "outputs": [],
   "source": [
    "class PlantUmlComponentDiagram(BaseModel):\n",
    "    plantuml: str = Field(\n",
    "        description=\"PlantUML code for the component diagram using C4-PlantUML. Use the folloing directive `!include  https://raw.githubusercontent.com/plantuml-stdlib/C4-PlantUML/master/C4_Container.puml`)\"\n",
    "    )\n",
    "\n",
    "plantuml_component_diagram = llm(\n",
    "    PlantUmlComponentDiagram,\n",
    "    \"You're a software architect who wants to provide a C4-PlantUML diagram for the current component diagram json definition\",\n",
    "    f\"Here the component diagram definition as json: {component_diagram.model_dump_json()}\",\n",
    ")\n",
    "\n",
    "display(Markdown(\"## Component Diagram\"))\n",
    "display(Markdown(component_diagram.description))\n",
    "show_plantuml(plantuml_component_diagram.plantuml)\n"
   ]
  },
  {
   "cell_type": "markdown",
   "id": "02c2ef33",
   "metadata": {},
   "source": [
    "### Code Diagram\n",
    "\n",
    "⚠️ Do not use code diagram ⚠️"
   ]
  },
  {
   "cell_type": "code",
   "execution_count": null,
   "id": "ab4734cb-7dfe-4198-86e1-0e0f68da8b6c",
   "metadata": {},
   "outputs": [],
   "source": []
  },
  {
   "cell_type": "code",
   "execution_count": null,
   "id": "4bc992bc-eca0-4df2-b053-4c7deb72b7e1",
   "metadata": {},
   "outputs": [],
   "source": []
  },
  {
   "cell_type": "code",
   "execution_count": null,
   "id": "a1a9d8a2-36c1-4bf9-af38-b45fdf7681d5",
   "metadata": {},
   "outputs": [],
   "source": []
  }
 ],
 "metadata": {
  "kernelspec": {
   "display_name": "Python 3 (ipykernel)",
   "language": "python",
   "name": "python3"
  },
  "language_info": {
   "codemirror_mode": {
    "name": "ipython",
    "version": 3
   },
   "file_extension": ".py",
   "mimetype": "text/x-python",
   "name": "python",
   "nbconvert_exporter": "python",
   "pygments_lexer": "ipython3",
   "version": "3.11.9"
  }
 },
 "nbformat": 4,
 "nbformat_minor": 5
}
